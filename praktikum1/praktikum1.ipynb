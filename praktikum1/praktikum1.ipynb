{
 "cells": [
  {
   "cell_type": "markdown",
   "metadata": {},
   "source": [
    "AlBi Praktikum 1\n",
    "1. FREQUENTWORDS\n",
    "2. FASTFREQUENTWORDS\n",
    "3. FINDINGFREQUENTWORDSBYSORTING"
   ]
  },
  {
   "cell_type": "code",
   "execution_count": 8,
   "metadata": {
    "collapsed": true
   },
   "outputs": [],
   "source": [
    "import numpy as np"
   ]
  },
  {
   "cell_type": "code",
   "execution_count": null,
   "metadata": {
    "collapsed": true
   },
   "outputs": [],
   "source": [
    "def FREQUENTWORDS(Text,k):\n",
    "    COUNT = np.zeros(1,len(Text)-k)\n",
    "    FrequentPatterns = []\n",
    "    for i in range(0,len(Text-k)):\n",
    "        Pattern = Text[i:i+k]\n",
    "        COUNT[i] = PATTERNCOUNT(Text,Pattern)\n",
    "    maxCount = np.max(COUNT)\n",
    "    for i in range(0, len(Text)-k):\n",
    "        if COUNT[i] == maxCount:\n",
    "            FrequentPatterns.append(Text[i:i+k])\n",
    "    # remove duplicates\n",
    "    # set deletes duplicates from list\n",
    "    return list(set(FrequentPattern))"
   ]
  },
  {
   "cell_type": "code",
   "execution_count": 4,
   "metadata": {
    "collapsed": false
   },
   "outputs": [],
   "source": [
    "def PATTERNCOUNT(Text,Pattern):\n",
    "    count = 0\n",
    "    for i in range(0,len(Text)-len(Pattern)):\n",
    "        if Text[i:len(Pattern)] == Pattern:\n",
    "            count = count + 1\n",
    "    return count\n",
    "        "
   ]
  },
  {
   "cell_type": "code",
   "execution_count": 1,
   "metadata": {
    "collapsed": true
   },
   "outputs": [],
   "source": [
    "def NUMBERTOPATTERN(index,k):\n",
    "    if k==1:\n",
    "        return NUMBERTOSYMBOL(index)\n",
    "    prefixIndex = QUOTIENT(index,4)\n",
    "    r = REMAINDER(index,4)\n",
    "    symbol = NUMBERTOSYMBOL(r)\n",
    "    PrefixPattern = NUMBERTOPATTERN(prefixIndex, k-1)\n",
    "    return (PrefixPattern + symbol)"
   ]
  },
  {
   "cell_type": "code",
   "execution_count": 5,
   "metadata": {
    "collapsed": true
   },
   "outputs": [],
   "source": [
    "def QUOTIENT(x,y):\n",
    "    return x/y"
   ]
  },
  {
   "cell_type": "code",
   "execution_count": 6,
   "metadata": {
    "collapsed": true
   },
   "outputs": [],
   "source": [
    "def REMAINDER(x,y):\n",
    "    return np.mod(x,y)"
   ]
  },
  {
   "cell_type": "code",
   "execution_count": null,
   "metadata": {
    "collapsed": true
   },
   "outputs": [],
   "source": [
    "def COMPUTINGFREQUENCIES(Text,k):\n",
    "    frequencyarray = []\n",
    "    for i in range (0,np.power(4,k)-1):\n",
    "        frequencyarray.append(0)\n",
    "    for i in range (0,len(Text)-k):\n",
    "        Pattern = Text[i:i+k]\n",
    "        j = PATTERNTONUMBER(Pattern)\n",
    "        frequencyarray[j] = frequencyarray[j]+1\n",
    "    return frequencyarray"
   ]
  },
  {
   "cell_type": "code",
   "execution_count": 15,
   "metadata": {
    "collapsed": true
   },
   "outputs": [],
   "source": [
    "def FASTERFREQUENTWORDS(Text,k):\n",
    "    FrequentPatterns = []\n",
    "    frequencyarray = COMPUTINGFREQUENCIES(Text,k)\n",
    "    maxCount = np.max(frequencyarray)\n",
    "    for i in range (0,np.power(4,k)-1):\n",
    "        if FREQUENCYARRAY[i] == maxCount:\n",
    "            Pattern = NUMBERTOPATTERN(i,k)\n",
    "            FrequentPatterns.append(Pattern)\n",
    "    return FrequentPatterns"
   ]
  },
  {
   "cell_type": "code",
   "execution_count": 1,
   "metadata": {
    "collapsed": true
   },
   "outputs": [],
   "source": [
    "def FINDINGFREQUENTWORDSBYSORTING(Text,k):\n",
    "    # Index, Count erstellen mit welcher Laenge? Initialisieren?\n",
    "    FrequentPatterns = []\n",
    "    for i in range (0,len(Text)-k):\n",
    "        Pattern = Text[i:i+k]\n",
    "        Index[i] = PATTERNTONUMBER(Pattern)\n",
    "        Count[i] = 1\n",
    "    SortedIndex = np.sort(Index)\n",
    "    for i in range (1,len(Text)-k):\n",
    "        if SortedIndex[i] == SortedIndex[i-1]:\n",
    "            Count[i] = Count[i-1] + 1\n",
    "    maxCount = np.max(Count)\n",
    "    for i in range (0,len(Text)-k):\n",
    "        if Count[i] == maxCount:\n",
    "            Pattern = NUMBERTOPATTERN(SortedIndex[i],k)\n",
    "            FrequentPatterns.append(Pattern)\n",
    "    return list(set(FrequentPatterns))"
   ]
  }
 ],
 "metadata": {
  "kernelspec": {
   "display_name": "Python 2",
   "language": "python",
   "name": "python2"
  },
  "language_info": {
   "codemirror_mode": {
    "name": "ipython",
    "version": 2
   },
   "file_extension": ".py",
   "mimetype": "text/x-python",
   "name": "python",
   "nbconvert_exporter": "python",
   "pygments_lexer": "ipython2",
   "version": "2.7.13"
  }
 },
 "nbformat": 4,
 "nbformat_minor": 2
}
